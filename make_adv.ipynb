{
 "cells": [
  {
   "cell_type": "code",
   "execution_count": 1,
   "id": "subsequent-sacramento",
   "metadata": {},
   "outputs": [],
   "source": [
    "from __future__ import print_function\n",
    "\n",
    "import numpy as np\n",
    "from PIL import ImageFile\n",
    "\n",
    "ImageFile.LOAD_TRUNCATED_IMAGES = True\n",
    "\n",
    "import argparse\n",
    "import math\n",
    "import os\n",
    "import shutil\n",
    "import time\n",
    "import random\n",
    "from functools import partial\n",
    "\n",
    "from tensorboardX import SummaryWriter\n",
    "import torch\n",
    "import torch.nn as nn\n",
    "import torch.nn.functional as F\n",
    "import torch.nn.parallel\n",
    "import torch.backends.cudnn as cudnn\n",
    "import torch.optim as optim\n",
    "import torch.utils.data as data\n",
    "import torchvision.transforms as transforms\n",
    "import torchvision.datasets as datasets\n",
    "from torch.optim.lr_scheduler import _LRScheduler\n",
    "\n",
    "from attacker import NoOpAttacker, PGDAttacker\n",
    "import net_cifar\n",
    "import net\n",
    "from utils import Bar, Logger, AverageMeter, accuracy, mkdir_p, savefig\n",
    "from utils.fastaug.fastaug import FastAugmentation\n",
    "from utils.fastaug.augmentations import Lighting\n",
    "from utils.misc import show_image_row\n",
    "from utils.label_maps import CLASS_DICT\n",
    "from models.stem_helper import *"
   ]
  },
  {
   "cell_type": "code",
   "execution_count": null,
   "id": "atomic-uganda",
   "metadata": {},
   "outputs": [],
   "source": [
    "resume = \"/ws/external/checkpoints/\"\n",
    "load = \"/ws/external/checkpoints/\"\n",
    "gpu_id = \"0\"\n",
    "num_classes = 10\n",
    "mixbn = False\n",
    "mixstem = False\n",
    "lr_schedule = \"cos\""
   ]
  },
  {
   "cell_type": "code",
   "execution_count": 2,
   "id": "scientific-outreach",
   "metadata": {},
   "outputs": [],
   "source": [
    "def to_status(m, status):\n",
    "    if hasattr(m, 'batch_type'):\n",
    "        m.batch_type = status\n",
    "\n",
    "\n",
    "to_clean_status = partial(to_status, status='clean')\n",
    "to_adv_status = partial(to_status, status='adv')\n",
    "to_mix_status = partial(to_status, status='mix')\n",
    "\n",
    "# Models\n",
    "default_model_names = sorted(name for name in net_cifar.__dict__ if\n",
    "                             name.islower() and not name.startswith('__') and callable(\n",
    "                                 net_cifar.__dict__[name]) and not name.startswith(\"to_\") and not name.startswith(\n",
    "                                 \"partial\"))\n",
    "\n",
    "model_names = default_model_names\n"
   ]
  },
  {
   "cell_type": "code",
   "execution_count": 3,
   "id": "stainless-reception",
   "metadata": {},
   "outputs": [
    {
     "ename": "NameError",
     "evalue": "name 'args' is not defined",
     "output_type": "error",
     "traceback": [
      "\u001b[0;31m---------------------------------------------------------------------------\u001b[0m",
      "\u001b[0;31mNameError\u001b[0m                                 Traceback (most recent call last)",
      "\u001b[0;32m<ipython-input-3-8561e4f9bedc>\u001b[0m in \u001b[0;36m<module>\u001b[0;34m\u001b[0m\n\u001b[1;32m      1\u001b[0m \u001b[0;31m# Use CUDA\u001b[0m\u001b[0;34m\u001b[0m\u001b[0;34m\u001b[0m\u001b[0;34m\u001b[0m\u001b[0m\n\u001b[0;32m----> 2\u001b[0;31m \u001b[0mos\u001b[0m\u001b[0;34m.\u001b[0m\u001b[0menviron\u001b[0m\u001b[0;34m[\u001b[0m\u001b[0;34m'CUDA_VISIBLE_DEVICES'\u001b[0m\u001b[0;34m]\u001b[0m \u001b[0;34m=\u001b[0m \u001b[0margs\u001b[0m\u001b[0;34m.\u001b[0m\u001b[0mgpu_id\u001b[0m\u001b[0;34m\u001b[0m\u001b[0;34m\u001b[0m\u001b[0m\n\u001b[0m\u001b[1;32m      3\u001b[0m \u001b[0muse_cuda\u001b[0m \u001b[0;34m=\u001b[0m \u001b[0mtorch\u001b[0m\u001b[0;34m.\u001b[0m\u001b[0mcuda\u001b[0m\u001b[0;34m.\u001b[0m\u001b[0mis_available\u001b[0m\u001b[0;34m(\u001b[0m\u001b[0;34m)\u001b[0m\u001b[0;34m\u001b[0m\u001b[0;34m\u001b[0m\u001b[0m\n\u001b[1;32m      4\u001b[0m \u001b[0;31m# Random seed\u001b[0m\u001b[0;34m\u001b[0m\u001b[0;34m\u001b[0m\u001b[0;34m\u001b[0m\u001b[0m\n\u001b[1;32m      5\u001b[0m \u001b[0mmanualSeed\u001b[0m \u001b[0;34m=\u001b[0m \u001b[0mrandom\u001b[0m\u001b[0;34m.\u001b[0m\u001b[0mrandint\u001b[0m\u001b[0;34m(\u001b[0m\u001b[0;36m1\u001b[0m\u001b[0;34m,\u001b[0m \u001b[0;36m10000\u001b[0m\u001b[0;34m)\u001b[0m\u001b[0;34m\u001b[0m\u001b[0;34m\u001b[0m\u001b[0m\n",
      "\u001b[0;31mNameError\u001b[0m: name 'args' is not defined"
     ]
    }
   ],
   "source": [
    "# Use CUDA\n",
    "os.environ['CUDA_VISIBLE_DEVICES'] = gpu_id\n",
    "use_cuda = torch.cuda.is_available()\n",
    "# Random seed\n",
    "manualSeed = random.randint(1, 10000)\n",
    "random.seed(manualSeed)\n",
    "torch.manual_seed(manualSeed)\n",
    "if use_cuda:\n",
    "    torch.cuda.manual_seed_all(manualSeed)\n",
    "best_acc = 0  # best test accuracy\n"
   ]
  },
  {
   "cell_type": "code",
   "execution_count": null,
   "id": "equivalent-tribute",
   "metadata": {},
   "outputs": [],
   "source": []
  }
 ],
 "metadata": {
  "kernelspec": {
   "display_name": "Python 3",
   "language": "python",
   "name": "python3"
  },
  "language_info": {
   "codemirror_mode": {
    "name": "ipython",
    "version": 3
   },
   "file_extension": ".py",
   "mimetype": "text/x-python",
   "name": "python",
   "nbconvert_exporter": "python",
   "pygments_lexer": "ipython3",
   "version": "3.7.7"
  }
 },
 "nbformat": 4,
 "nbformat_minor": 5
}
